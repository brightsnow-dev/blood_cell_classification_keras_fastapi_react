{
  "nbformat": 4,
  "nbformat_minor": 0,
  "metadata": {
    "colab": {
      "name": "blood_cell_type_cnn.ipynb",
      "provenance": [],
      "collapsed_sections": []
    },
    "kernelspec": {
      "name": "python3",
      "display_name": "Python 3"
    },
    "accelerator": "GPU"
  },
  "cells": [
    {
      "cell_type": "markdown",
      "metadata": {
        "id": "m3nyVGV0uG-u",
        "colab_type": "text"
      },
      "source": [
        "Script para criação de modelo de classificação de tipos celulares em imagens de lâminas de sangue humano.\n",
        "Modelo baseado no algoritmo de Rede Neural Convolucional, treinado com o dataset [Blood Cell Images do Paul Mooney no Kaggle](https://www.kaggle.com/paultimothymooney/blood-cells)"
      ]
    },
    {
      "cell_type": "code",
      "metadata": {
        "id": "ItKdZf-DJ78r",
        "colab_type": "code",
        "colab": {}
      },
      "source": [
        "#Carregando o kaggle para o Google Colab\n",
        "#Adicionando o token pessoal para autenticação e utilização do kaggle API\n",
        "\n",
        "!mkdir ~/.kaggle\n",
        "!touch ~/.kaggle/kaggle.json\n",
        "\n",
        "api_token = {\"username\":\"denismoura\",\"key\":\"449443e301be76825738f643042c805d\"}\n",
        "\n",
        "#Importações\n",
        "\n",
        "import json\n",
        "from keras.models import Sequential\n",
        "from keras.layers import Dense, Conv2D, Dropout, MaxPool2D, Flatten\n",
        "from keras.preprocessing import image\n",
        "from keras.models import load_model\n",
        "import os\n",
        "import tensorflow as tf\n",
        "import numpy\n",
        "import os\n",
        "from PIL import Image\n",
        "\n",
        "with open('/root/.kaggle/kaggle.json', 'w') as file:\n",
        "    json.dump(api_token, file)\n",
        "\n",
        "!chmod 600 ~/.kaggle/kaggle.json"
      ],
      "execution_count": 2,
      "outputs": []
    },
    {
      "cell_type": "code",
      "metadata": {
        "id": "m25JTrM1RmwT",
        "colab_type": "code",
        "colab": {
          "base_uri": "https://localhost:8080/",
          "height": 68
        },
        "outputId": "fbffce1a-9adb-4a72-b0fe-ef7da3259cc5"
      },
      "source": [
        "#Baixando e descompactando o dataset\n",
        "\n",
        "!kaggle datasets download -d paultimothymooney/blood-cells"
      ],
      "execution_count": 3,
      "outputs": [
        {
          "output_type": "stream",
          "text": [
            "Downloading blood-cells.zip to /content\n",
            " 90% 97.0M/108M [00:01<00:00, 60.4MB/s]\n",
            "100% 108M/108M [00:01<00:00, 93.3MB/s] \n"
          ],
          "name": "stdout"
        }
      ]
    },
    {
      "cell_type": "code",
      "metadata": {
        "id": "vaFGh9N2TasO",
        "colab_type": "code",
        "colab": {}
      },
      "source": [
        "!unzip 'blood-cells.zip'"
      ],
      "execution_count": null,
      "outputs": []
    },
    {
      "cell_type": "code",
      "metadata": {
        "id": "xQjzV4TkVDGK",
        "colab_type": "code",
        "colab": {}
      },
      "source": [
        "# Criando um generator para preprocessamento das imagens.\n",
        "\n",
        "generator = image.ImageDataGenerator(\n",
        "    rescale = 1./255, #pôr escala de cor de 0 a 1\n",
        "    featurewise_center  = False, #não usar média de 0 para os dados\n",
        "    samplewise_center = True, #aplicar média 0 para cada amostra\n",
        "    featurewise_std_normalization = False, #não normalizar os inputs por desvio padrão do conjunto de dados\n",
        "    samplewise_std_normalization = True, #dividir cada amostra por desvio padrão\n",
        "    zca_whitening = False, #não aplicar o branqueamento de imagens\n",
        "    rotation_range = 30, #rotação aleatória das imagens em 10 graus\n",
        "    width_shift_range=0.3, #deslocar a imagem no comprimento\n",
        "    height_shift_range = 0.3,  #deslocar a imagem na altura\n",
        "    horizontal_flip = True, #espelhar a imagem horizontalmente\n",
        "    vertical_flip = True # espelhar a imagem verticalmente\n",
        ")"
      ],
      "execution_count": null,
      "outputs": []
    },
    {
      "cell_type": "code",
      "metadata": {
        "id": "TS5CnSmLVi-l",
        "colab_type": "code",
        "colab": {
          "base_uri": "https://localhost:8080/",
          "height": 34
        },
        "outputId": "0bafadbf-21e2-4270-b843-51d8a7323af7"
      },
      "source": [
        "#Criar um dataset com as imagens no diretório de treino\n",
        "#A pasta contém subpastas para cada uma das 4 classes preditas:\n",
        "#Linfócitos\n",
        "#Monócitos\n",
        "#Eosinófilos\n",
        "#Neutrófilos\n",
        "\n",
        "dataset = generator.flow_from_directory(\n",
        "    shuffle = True, #Misturar as amostras aleatoriamente\n",
        "    batch_size = 32, #Configurando 32 amostras por batch\n",
        "    target_size = (80, 80), #Reduzir o tamanho das imagens para 80x80\n",
        "    directory = 'dataset2-master/dataset2-master/images/TRAIN'\n",
        ")"
      ],
      "execution_count": null,
      "outputs": [
        {
          "output_type": "stream",
          "text": [
            "Found 9957 images belonging to 4 classes.\n"
          ],
          "name": "stdout"
        }
      ]
    },
    {
      "cell_type": "code",
      "metadata": {
        "id": "ePqdBIhMV3my",
        "colab_type": "code",
        "colab": {}
      },
      "source": [
        "# Configurando a rede neural sequencial do modelo\n",
        "\n",
        "def model():\n",
        "    model = Sequential()\n",
        "    #Setando a primeria camada convolucional 2d: convolução espacial de imagens, com ativação relu padrão\n",
        "    model.add(Conv2D(64, (3,3), strides = (1, 1), activation = 'relu', input_shape = (80, 80, 3)))\n",
        "    #Setando uma segunda camada conv2d\n",
        "    model.add(Conv2D(80, (3,3), strides = (1, 1), activation = 'relu'))\n",
        "    #Adicionando uma camada de maxpooling, escolhendo o maior valor numa janela de dimensão (2,2)\n",
        "    model.add(MaxPool2D(pool_size = (2,2)))\n",
        "    #Adicionando outra camada conv2d\n",
        "    model.add(Conv2D(64, (3,3), strides = (1,1), activation = 'relu'))\n",
        "    #Adicionando uma camada dropout dos inputs a uma taxa de 0.25\n",
        "    model.add(Dropout(0.25))\n",
        "    #Adicionando camada de achatamento, para transformar matriz em um array\n",
        "    model.add(Flatten())\n",
        "    #Adicionando uma camada densa\n",
        "    model.add(Dense(128, activation = 'relu'))\n",
        "    #Adicionando outra camada de dropout\n",
        "    model.add(Dropout(0.5))\n",
        "    #Finalizando com uma camada densa como output\n",
        "    model.add(Dense(4, activation = 'softmax'))\n",
        "\n",
        "    #Setando a loss function como categorical crossentropy para classificação categórica\n",
        "    #adadelta como optimizer\n",
        "    #E categorical accuracy como métrica de performance\n",
        "    model.compile(loss = 'categorical_crossentropy', optimizer = 'adadelta', metrics = ['categorical_accuracy'])\n",
        "    \n",
        "    return model\n",
        "\n",
        "nn = model()"
      ],
      "execution_count": null,
      "outputs": []
    },
    {
      "cell_type": "code",
      "metadata": {
        "id": "gx2Mtel7UpL2",
        "colab_type": "code",
        "colab": {
          "base_uri": "https://localhost:8080/",
          "height": 34
        },
        "outputId": "9721b9cb-d9a4-4c8b-f796-4901c1eb2866"
      },
      "source": [
        "#Encontrando o GPU disponível\n",
        "\n",
        "%tensorflow_version 2.x\n",
        "import tensorflow as tf\n",
        "device_name = tf.test.gpu_device_name()\n",
        "if device_name != '/device:GPU:0':\n",
        "  raise SystemError('GPU device not found')\n",
        "print('Found GPU at: {}'.format(device_name))"
      ],
      "execution_count": null,
      "outputs": [
        {
          "output_type": "stream",
          "text": [
            "Found GPU at: /device:GPU:0\n"
          ],
          "name": "stdout"
        }
      ]
    },
    {
      "cell_type": "code",
      "metadata": {
        "id": "t-lEDq2QXGF_",
        "colab_type": "code",
        "colab": {
          "base_uri": "https://localhost:8080/",
          "height": 1000
        },
        "outputId": "f7cb406d-0af7-4290-9b31-b1fb18815e6e"
      },
      "source": [
        "# Treinando o modelo por 30 épocas utilizando o gpu\n",
        "\n",
        "with tf.device(\"gpu:0\"):\n",
        "   nn.fit_generator(dataset, steps_per_epoch = None, epochs = 30, verbose = 1)"
      ],
      "execution_count": null,
      "outputs": [
        {
          "output_type": "stream",
          "text": [
            "Epoch 1/30\n",
            "312/312 [==============================] - 32s 103ms/step - loss: 1.3175 - categorical_accuracy: 0.3544\n",
            "Epoch 2/30\n",
            "312/312 [==============================] - 32s 103ms/step - loss: 0.9270 - categorical_accuracy: 0.6092\n",
            "Epoch 3/30\n",
            "312/312 [==============================] - 32s 103ms/step - loss: 0.6062 - categorical_accuracy: 0.7421\n",
            "Epoch 4/30\n",
            "312/312 [==============================] - 32s 103ms/step - loss: 0.4975 - categorical_accuracy: 0.7896\n",
            "Epoch 5/30\n",
            "312/312 [==============================] - 32s 102ms/step - loss: 0.4440 - categorical_accuracy: 0.8159\n",
            "Epoch 6/30\n",
            "312/312 [==============================] - 32s 103ms/step - loss: 0.3974 - categorical_accuracy: 0.8412\n",
            "Epoch 7/30\n",
            "312/312 [==============================] - 32s 103ms/step - loss: 0.3788 - categorical_accuracy: 0.8481\n",
            "Epoch 8/30\n",
            "312/312 [==============================] - 32s 103ms/step - loss: 0.3452 - categorical_accuracy: 0.8597\n",
            "Epoch 9/30\n",
            "312/312 [==============================] - 32s 103ms/step - loss: 0.3188 - categorical_accuracy: 0.8722\n",
            "Epoch 10/30\n",
            "312/312 [==============================] - 32s 103ms/step - loss: 0.3349 - categorical_accuracy: 0.8703\n",
            "Epoch 11/30\n",
            "312/312 [==============================] - 33s 104ms/step - loss: 0.2926 - categorical_accuracy: 0.8818\n",
            "Epoch 12/30\n",
            "312/312 [==============================] - 32s 104ms/step - loss: 0.2908 - categorical_accuracy: 0.8818\n",
            "Epoch 13/30\n",
            "312/312 [==============================] - 32s 103ms/step - loss: 0.2786 - categorical_accuracy: 0.8848\n",
            "Epoch 14/30\n",
            "312/312 [==============================] - 32s 103ms/step - loss: 0.2689 - categorical_accuracy: 0.8936\n",
            "Epoch 15/30\n",
            "312/312 [==============================] - 32s 102ms/step - loss: 0.2677 - categorical_accuracy: 0.8943\n",
            "Epoch 16/30\n",
            "312/312 [==============================] - 32s 102ms/step - loss: 0.2486 - categorical_accuracy: 0.9034\n",
            "Epoch 17/30\n",
            "312/312 [==============================] - 32s 103ms/step - loss: 0.2420 - categorical_accuracy: 0.9028\n",
            "Epoch 18/30\n",
            "312/312 [==============================] - 32s 103ms/step - loss: 0.2338 - categorical_accuracy: 0.9058\n",
            "Epoch 19/30\n",
            "312/312 [==============================] - 32s 103ms/step - loss: 0.2294 - categorical_accuracy: 0.9108\n",
            "Epoch 20/30\n",
            "312/312 [==============================] - 32s 103ms/step - loss: 0.2205 - categorical_accuracy: 0.9122\n",
            "Epoch 21/30\n",
            "312/312 [==============================] - 32s 104ms/step - loss: 0.2316 - categorical_accuracy: 0.9107\n",
            "Epoch 22/30\n",
            "312/312 [==============================] - 32s 103ms/step - loss: 0.2124 - categorical_accuracy: 0.9182\n",
            "Epoch 23/30\n",
            "312/312 [==============================] - 32s 103ms/step - loss: 0.2162 - categorical_accuracy: 0.9139\n",
            "Epoch 24/30\n",
            "312/312 [==============================] - 32s 103ms/step - loss: 0.2132 - categorical_accuracy: 0.9187\n",
            "Epoch 25/30\n",
            "312/312 [==============================] - 32s 103ms/step - loss: 0.2074 - categorical_accuracy: 0.9204\n",
            "Epoch 26/30\n",
            "312/312 [==============================] - 32s 103ms/step - loss: 0.1987 - categorical_accuracy: 0.9227\n",
            "Epoch 27/30\n",
            "312/312 [==============================] - 32s 103ms/step - loss: 0.1980 - categorical_accuracy: 0.9217\n",
            "Epoch 28/30\n",
            "312/312 [==============================] - 32s 102ms/step - loss: 0.1915 - categorical_accuracy: 0.9237\n",
            "Epoch 29/30\n",
            "312/312 [==============================] - 32s 103ms/step - loss: 0.1966 - categorical_accuracy: 0.9265\n",
            "Epoch 30/30\n",
            "312/312 [==============================] - 32s 104ms/step - loss: 0.1886 - categorical_accuracy: 0.9285\n"
          ],
          "name": "stdout"
        }
      ]
    },
    {
      "cell_type": "code",
      "metadata": {
        "id": "LUYTRQvbb71I",
        "colab_type": "code",
        "colab": {
          "base_uri": "https://localhost:8080/",
          "height": 71
        },
        "outputId": "8121ecaa-a252-42ca-b3ba-a7b6fa17e824"
      },
      "source": [
        "#Checando o tamanho do modelo antes de salvar.\n",
        "\n",
        "print(os.stat('Model.h5'))\n",
        "os.stat('Model.h5').st_size"
      ],
      "execution_count": null,
      "outputs": [
        {
          "output_type": "stream",
          "text": [
            "os.stat_result(st_mode=33188, st_ino=2515729, st_dev=50, st_nlink=1, st_uid=0, st_gid=0, st_size=128574952, st_atime=1596419763, st_mtime=1596419763, st_ctime=1596419763)\n"
          ],
          "name": "stdout"
        },
        {
          "output_type": "execute_result",
          "data": {
            "text/plain": [
              "128574952"
            ]
          },
          "metadata": {
            "tags": []
          },
          "execution_count": 17
        }
      ]
    },
    {
      "cell_type": "code",
      "metadata": {
        "id": "AM-Aj2Gn7yuI",
        "colab_type": "code",
        "colab": {}
      },
      "source": [
        "#Salvando o modelo em arquivo.\n",
        "\n",
        "nn.save('Model.h5')"
      ],
      "execution_count": null,
      "outputs": []
    },
    {
      "cell_type": "code",
      "metadata": {
        "id": "Ge4eP5ovnm2-",
        "colab_type": "code",
        "colab": {}
      },
      "source": [
        "nn = load_model('Model.h5')"
      ],
      "execution_count": 5,
      "outputs": []
    },
    {
      "cell_type": "code",
      "metadata": {
        "id": "wC_7eCcxA3-b",
        "colab_type": "code",
        "colab": {
          "base_uri": "https://localhost:8080/",
          "height": 85
        },
        "outputId": "bbc71db8-09f7-44ee-aa7f-acbb00cbb888"
      },
      "source": [
        "# Validando o modelo\n",
        "\n",
        "correct = 0\n",
        "wrong = 0\n",
        "total = 0\n",
        "\n",
        "for file in os.listdir('dataset2-master/dataset2-master/images/TRAIN/EOSINOPHIL'):\n",
        "  image = Image.open('dataset2-master/dataset2-master/images/TRAIN/EOSINOPHIL/'+file)\n",
        "  image = image.resize((80, 80))\n",
        "  image = numpy.array(image, dtype = 'float32')\n",
        "  image/=255\n",
        "  image = image.reshape(1, 80, 80, 3)\n",
        "  prediction = nn.predict(image)\n",
        "  #print(numpy.argmax(prediction))\n",
        "  if numpy.argmax(prediction) == 0: correct+=1\n",
        "  else: wrong+=1\n",
        "  total+=1\n",
        "\n",
        "print('EOSINOPHIL :::: Result : ', 'Correct prediction %: ', (correct/total)*100, 'Wrong prediction : %', (wrong/total)*100)\n",
        "\n",
        "\n",
        "#demo code check for LYMPHOCYTE\n",
        "\n",
        "correct = 0\n",
        "wrong = 0\n",
        "total = 0\n",
        "\n",
        "for file in os.listdir('dataset2-master/dataset2-master/images/TRAIN/LYMPHOCYTE'):\n",
        "  image = Image.open('dataset2-master/dataset2-master/images/TRAIN/LYMPHOCYTE/'+file)\n",
        "  image = image.resize((80, 80))\n",
        "  image = numpy.array(image, dtype = 'float32')\n",
        "  image/=255\n",
        "  image = image.reshape(1, 80, 80, 3)\n",
        "  prediction = nn.predict(image)\n",
        "  #print(numpy.argmax(prediction))\n",
        "  if numpy.argmax(prediction) == 1: correct+=1\n",
        "  else: wrong+=1\n",
        "  total+=1\n",
        "\n",
        "print('LYMPHOCYTE :::: Result : ', 'Correct prediction %: ', (correct/total)*100, 'Wrong prediction : %', (wrong/total)*100)\n",
        "\n",
        "#demo code check for MONOCYTE\n",
        "\n",
        "correct = 0\n",
        "wrong = 0\n",
        "total = 0\n",
        "\n",
        "for file in os.listdir('dataset2-master/dataset2-master/images/TRAIN/MONOCYTE'):\n",
        "  image = Image.open('dataset2-master/dataset2-master/images/TRAIN/MONOCYTE/'+file)\n",
        "  image = image.resize((80, 80))\n",
        "  image = numpy.array(image, dtype = 'float32')\n",
        "  image/=255\n",
        "  image = image.reshape(1, 80, 80, 3)\n",
        "  prediction = nn.predict(image)\n",
        "  #print(numpy.argmax(prediction))\n",
        "  if numpy.argmax(prediction) == 2: correct+=1\n",
        "  else: wrong+=1\n",
        "  total+=1\n",
        "\n",
        "print('MONOCYTE :::: Result : ', 'Correct prediction %: ', (correct/total)*100, 'Wrong prediction : %', (wrong/total)*100)\n",
        "\n",
        "\n",
        "#demo code check for NEUTROPHIL\n",
        "\n",
        "correct = 0\n",
        "wrong = 0\n",
        "total = 0\n",
        "\n",
        "for file in os.listdir('dataset2-master/dataset2-master/images/TRAIN/NEUTROPHIL'):\n",
        "  image = Image.open('dataset2-master/dataset2-master/images/TRAIN/NEUTROPHIL/'+file)\n",
        "  image = image.resize((80, 80))\n",
        "  image = numpy.array(image, dtype = 'float32')\n",
        "  image/=255\n",
        "  image = image.reshape(1, 80, 80, 3)\n",
        "  prediction = nn.predict(image)\n",
        "  #print(numpy.argmax(prediction))\n",
        "  if numpy.argmax(prediction) == 3: correct+=1\n",
        "  else: wrong+=1\n",
        "  total+=1\n",
        "\n",
        "print('NEUTROPHIL ::: Result : ', 'Correct prediction %: ', (correct/total)*100, 'Wrong prediction : %', (wrong/total)*100)"
      ],
      "execution_count": 10,
      "outputs": [
        {
          "output_type": "stream",
          "text": [
            "EOSINOPHIL :::: Result :  Correct prediction %:  97.11653984781738 Wrong prediction : % 2.8834601521826193\n",
            "LYMPHOCYTE :::: Result :  Correct prediction %:  99.71808296415627 Wrong prediction : % 0.2819170358437374\n",
            "MONOCYTE :::: Result :  Correct prediction %:  99.79822437449556 Wrong prediction : % 0.20177562550443903\n",
            "NEUTROPHIL ::: Result :  Correct prediction %:  81.55262104841937 Wrong prediction : % 18.44737895158063\n"
          ],
          "name": "stdout"
        }
      ]
    },
    {
      "cell_type": "code",
      "metadata": {
        "id": "OD6qNPRtDZ19",
        "colab_type": "code",
        "colab": {
          "base_uri": "https://localhost:8080/",
          "height": 85
        },
        "outputId": "4b37b94e-dbb3-4265-dd11-d53d678ce0c5"
      },
      "source": [
        "# Validando o modelo\n",
        "\n",
        "correct = 0\n",
        "wrong = 0\n",
        "total = 0\n",
        "\n",
        "for file in os.listdir('dataset2-master/dataset2-master/images/TEST/EOSINOPHIL'):\n",
        "  image = Image.open('dataset2-master/dataset2-master/images/TEST/EOSINOPHIL/'+file)\n",
        "  image = image.resize((80, 80))\n",
        "  image = numpy.array(image, dtype = 'float32')\n",
        "  image/=255\n",
        "  image = image.reshape(1, 80, 80, 3)\n",
        "  prediction = nn.predict(image)\n",
        "  #print(numpy.argmax(prediction))\n",
        "  if numpy.argmax(prediction) == 0: correct+=1\n",
        "  else: wrong+=1\n",
        "  total+=1\n",
        "\n",
        "print('EOSINOPHIL :::: Result : ', 'Correct prediction %: ', (correct/total)*100, 'Wrong prediction : %', (wrong/total)*100)\n",
        "\n",
        "\n",
        "#demo code check for LYMPHOCYTE\n",
        "\n",
        "correct = 0\n",
        "wrong = 0\n",
        "total = 0\n",
        "\n",
        "for file in os.listdir('dataset2-master/dataset2-master/images/TEST/LYMPHOCYTE'):\n",
        "  image = Image.open('dataset2-master/dataset2-master/images/TEST/LYMPHOCYTE/'+file)\n",
        "  image = image.resize((80, 80))\n",
        "  image = numpy.array(image, dtype = 'float32')\n",
        "  image/=255\n",
        "  image = image.reshape(1, 80, 80, 3)\n",
        "  prediction = nn.predict(image)\n",
        "  #print(numpy.argmax(prediction))\n",
        "  if numpy.argmax(prediction) == 1: correct+=1\n",
        "  else: wrong+=1\n",
        "  total+=1\n",
        "\n",
        "print('LYMPHOCYTE :::: Result : ', 'Correct prediction %: ', (correct/total)*100, 'Wrong prediction : %', (wrong/total)*100)\n",
        "\n",
        "#demo code check for MONOCYTE\n",
        "\n",
        "correct = 0\n",
        "wrong = 0\n",
        "total = 0\n",
        "\n",
        "for file in os.listdir('dataset2-master/dataset2-master/images/TEST/MONOCYTE'):\n",
        "  image = Image.open('dataset2-master/dataset2-master/images/TEST/MONOCYTE/'+file)\n",
        "  image = image.resize((80, 80))\n",
        "  image = numpy.array(image, dtype = 'float32')\n",
        "  image/=255\n",
        "  image = image.reshape(1, 80, 80, 3)\n",
        "  prediction = nn.predict(image)\n",
        "  #print(numpy.argmax(prediction))\n",
        "  if numpy.argmax(prediction) == 2: correct+=1\n",
        "  else: wrong+=1\n",
        "  total+=1\n",
        "\n",
        "print('MONOCYTE :::: Result : ', 'Correct prediction %: ', (correct/total)*100, 'Wrong prediction : %', (wrong/total)*100)\n",
        "\n",
        "\n",
        "#demo code check for NEUTROPHIL\n",
        "\n",
        "correct = 0\n",
        "wrong = 0\n",
        "total = 0\n",
        "\n",
        "for file in os.listdir('dataset2-master/dataset2-master/images/TEST/NEUTROPHIL'):\n",
        "  image = Image.open('dataset2-master/dataset2-master/images/TEST/NEUTROPHIL/'+file)\n",
        "  image = image.resize((80, 80))\n",
        "  image = numpy.array(image, dtype = 'float32')\n",
        "  image/=255\n",
        "  image = image.reshape(1, 80, 80, 3)\n",
        "  prediction = nn.predict(image)\n",
        "  #print(numpy.argmax(prediction))\n",
        "  if numpy.argmax(prediction) == 3: correct+=1\n",
        "  else: wrong+=1\n",
        "  total+=1\n",
        "\n",
        "print('NEUTROPHIL ::: Result : ', 'Correct prediction %: ', (correct/total)*100, 'Wrong prediction : %', (wrong/total)*100)"
      ],
      "execution_count": 13,
      "outputs": [
        {
          "output_type": "stream",
          "text": [
            "EOSINOPHIL :::: Result :  Correct prediction %:  91.01123595505618 Wrong prediction : % 8.98876404494382\n",
            "LYMPHOCYTE :::: Result :  Correct prediction %:  100.0 Wrong prediction : % 0.0\n",
            "MONOCYTE :::: Result :  Correct prediction %:  75.0 Wrong prediction : % 25.0\n",
            "NEUTROPHIL ::: Result :  Correct prediction %:  75.0 Wrong prediction : % 25.0\n"
          ],
          "name": "stdout"
        }
      ]
    }
  ]
}